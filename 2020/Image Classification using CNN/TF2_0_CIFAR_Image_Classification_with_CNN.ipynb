{
  "nbformat": 4,
  "nbformat_minor": 0,
  "metadata": {
    "colab": {
      "name": "TF2.0 CIFAR - Image Classification with CNN.ipynb",
      "provenance": [],
      "collapsed_sections": []
    },
    "kernelspec": {
      "name": "python3",
      "display_name": "Python 3"
    },
    "accelerator": "GPU"
  },
  "cells": [
    {
      "cell_type": "code",
      "metadata": {
        "id": "pmNpq8GML1jW",
        "outputId": "247b4676-1ecc-426d-e924-c74828fab26a",
        "colab": {
          "base_uri": "https://localhost:8080/"
        }
      },
      "source": [
        "# This notebook has been highly inspired by the materials thought in Udemy's course \"Tensorflow 2.0: Deep Learning and Artificial Intelligence\".\n",
        "\n",
        "# Install TensorFlow\n",
        "# !pip install -q tensorflow-gpu==2.0.0-beta1\n",
        "\n",
        "try:\n",
        "  %tensorflow_version 2.x  # Colab only.\n",
        "except Exception:\n",
        "  pass\n",
        "\n",
        "import tensorflow as tf\n",
        "print(tf.__version__)"
      ],
      "execution_count": 1,
      "outputs": [
        {
          "output_type": "stream",
          "text": [
            "`%tensorflow_version` only switches the major version: 1.x or 2.x.\n",
            "You set: `2.x  # Colab only.`. This will be interpreted as: `2.x`.\n",
            "\n",
            "\n",
            "TensorFlow 2.x selected.\n",
            "2.3.0\n"
          ],
          "name": "stdout"
        }
      ]
    },
    {
      "cell_type": "code",
      "metadata": {
        "id": "cBJh6ib6MEIW"
      },
      "source": [
        "# additional imports\n",
        "\n",
        "import numpy as np\n",
        "import matplotlib.pyplot as plt\n",
        "from tensorflow.keras.layers import Input, Conv2D, Dense, Flatten, Dropout, GlobalMaxPooling2D, MaxPooling2D, BatchNormalization\n",
        "from tensorflow.keras.models import Model"
      ],
      "execution_count": 2,
      "outputs": []
    },
    {
      "cell_type": "code",
      "metadata": {
        "id": "H_EGZv1TL4S_",
        "outputId": "6feb2fac-0eba-4842-a30e-c51b28cd3b4e",
        "colab": {
          "base_uri": "https://localhost:8080/"
        }
      },
      "source": [
        "# Load in the data\n",
        "cifar10 = tf.keras.datasets.cifar10\n",
        "\n",
        "(x_train, y_train), (x_test, y_test) = cifar10.load_data()\n",
        "x_train, x_test = x_train / 255.0, x_test / 255.0\n",
        "y_train, y_test = y_train.flatten(), y_test.flatten()\n",
        "print(\"x_train.shape:\", x_train.shape)\n",
        "print(\"y_train.shape\", y_train.shape)"
      ],
      "execution_count": 3,
      "outputs": [
        {
          "output_type": "stream",
          "text": [
            "Downloading data from https://www.cs.toronto.edu/~kriz/cifar-10-python.tar.gz\n",
            "170500096/170498071 [==============================] - 2s 0us/step\n",
            "x_train.shape: (50000, 32, 32, 3)\n",
            "y_train.shape (50000,)\n"
          ],
          "name": "stdout"
        }
      ]
    },
    {
      "cell_type": "code",
      "metadata": {
        "id": "1Wr15bYpMwbB",
        "outputId": "fd2a3538-4a49-46bb-95a0-b033d6375f6b",
        "colab": {
          "base_uri": "https://localhost:8080/"
        }
      },
      "source": [
        "# number of classes\n",
        "K = len(set(y_train))\n",
        "print(\"number of classes:\", K)"
      ],
      "execution_count": 4,
      "outputs": [
        {
          "output_type": "stream",
          "text": [
            "number of classes: 10\n"
          ],
          "name": "stdout"
        }
      ]
    },
    {
      "cell_type": "code",
      "metadata": {
        "id": "Mmo66uQoMA1Q"
      },
      "source": [
        "# Build the model using the functional API\n",
        "i = Input(shape=x_train[0].shape)\n",
        "# x = Conv2D(32, (3, 3), strides=2, activation='relu')(i)\n",
        "# x = Conv2D(64, (3, 3), strides=2, activation='relu')(x)\n",
        "# x = Conv2D(128, (3, 3), strides=2, activation='relu')(x)\n",
        "\n",
        "x = Conv2D(32, (3, 3), activation='relu', padding='same')(i)\n",
        "x = BatchNormalization()(x)\n",
        "x = Conv2D(32, (3, 3), activation='relu', padding='same')(x)\n",
        "x = BatchNormalization()(x)\n",
        "x = MaxPooling2D((2, 2))(x)\n",
        "# x = Dropout(0.2)(x)\n",
        "x = Conv2D(64, (3, 3), activation='relu', padding='same')(x)\n",
        "x = BatchNormalization()(x)\n",
        "x = Conv2D(64, (3, 3), activation='relu', padding='same')(x)\n",
        "x = BatchNormalization()(x)\n",
        "x = MaxPooling2D((2, 2))(x)\n",
        "# x = Dropout(0.2)(x)\n",
        "x = Conv2D(128, (3, 3), activation='relu', padding='same')(x)\n",
        "x = BatchNormalization()(x)\n",
        "x = Conv2D(128, (3, 3), activation='relu', padding='same')(x)\n",
        "x = BatchNormalization()(x)\n",
        "x = MaxPooling2D((2, 2))(x)\n",
        "# x = Dropout(0.2)(x)\n",
        "\n",
        "# x = GlobalMaxPooling2D()(x)\n",
        "x = Flatten()(x)\n",
        "x = Dropout(0.2)(x)\n",
        "x = Dense(1024, activation='relu')(x)\n",
        "x = Dropout(0.2)(x)\n",
        "x = Dense(K, activation='softmax')(x)\n",
        "\n",
        "model = Model(i, x)"
      ],
      "execution_count": 5,
      "outputs": []
    },
    {
      "cell_type": "code",
      "metadata": {
        "id": "0zF9n0P7NcP-"
      },
      "source": [
        "# Compile\n",
        "# Note: make sure you are using the GPU for this!\n",
        "model.compile(optimizer='adam',\n",
        "              loss='sparse_categorical_crossentropy',\n",
        "              metrics=['accuracy'])"
      ],
      "execution_count": 6,
      "outputs": []
    },
    {
      "cell_type": "code",
      "metadata": {
        "id": "BBzAGEjOkvFz",
        "outputId": "230cbe83-2cf1-4bde-a4a9-c564f539068b",
        "colab": {
          "base_uri": "https://localhost:8080/"
        }
      },
      "source": [
        "# Fit\n",
        "r = model.fit(x_train, y_train, validation_data=(x_test, y_test), epochs=50)"
      ],
      "execution_count": 7,
      "outputs": [
        {
          "output_type": "stream",
          "text": [
            "Epoch 1/50\n",
            "1563/1563 [==============================] - 9s 6ms/step - loss: 1.2937 - accuracy: 0.5555 - val_loss: 1.2122 - val_accuracy: 0.5857\n",
            "Epoch 2/50\n",
            "1563/1563 [==============================] - 9s 6ms/step - loss: 0.8427 - accuracy: 0.7084 - val_loss: 1.0050 - val_accuracy: 0.6606\n",
            "Epoch 3/50\n",
            "1563/1563 [==============================] - 9s 6ms/step - loss: 0.6973 - accuracy: 0.7611 - val_loss: 0.7260 - val_accuracy: 0.7496\n",
            "Epoch 4/50\n",
            "1563/1563 [==============================] - 9s 6ms/step - loss: 0.5920 - accuracy: 0.7961 - val_loss: 0.7333 - val_accuracy: 0.7548\n",
            "Epoch 5/50\n",
            "1563/1563 [==============================] - 9s 6ms/step - loss: 0.4938 - accuracy: 0.8313 - val_loss: 0.6042 - val_accuracy: 0.7992\n",
            "Epoch 6/50\n",
            "1563/1563 [==============================] - 9s 6ms/step - loss: 0.4247 - accuracy: 0.8545 - val_loss: 0.6749 - val_accuracy: 0.7830\n",
            "Epoch 7/50\n",
            "1563/1563 [==============================] - 9s 6ms/step - loss: 0.3577 - accuracy: 0.8763 - val_loss: 0.6202 - val_accuracy: 0.8019\n",
            "Epoch 8/50\n",
            "1563/1563 [==============================] - 9s 6ms/step - loss: 0.3023 - accuracy: 0.8959 - val_loss: 0.7930 - val_accuracy: 0.7515\n",
            "Epoch 9/50\n",
            "1563/1563 [==============================] - 9s 6ms/step - loss: 0.2575 - accuracy: 0.9123 - val_loss: 0.6914 - val_accuracy: 0.8028\n",
            "Epoch 10/50\n",
            "1563/1563 [==============================] - 9s 6ms/step - loss: 0.2275 - accuracy: 0.9216 - val_loss: 0.7096 - val_accuracy: 0.8109\n",
            "Epoch 11/50\n",
            "1563/1563 [==============================] - 9s 6ms/step - loss: 0.1963 - accuracy: 0.9330 - val_loss: 0.6435 - val_accuracy: 0.8243\n",
            "Epoch 12/50\n",
            "1563/1563 [==============================] - 9s 6ms/step - loss: 0.1749 - accuracy: 0.9410 - val_loss: 0.6994 - val_accuracy: 0.8149\n",
            "Epoch 13/50\n",
            "1563/1563 [==============================] - 9s 6ms/step - loss: 0.1601 - accuracy: 0.9449 - val_loss: 0.7498 - val_accuracy: 0.8079\n",
            "Epoch 14/50\n",
            "1563/1563 [==============================] - 9s 6ms/step - loss: 0.1432 - accuracy: 0.9510 - val_loss: 0.7475 - val_accuracy: 0.8196\n",
            "Epoch 15/50\n",
            "1563/1563 [==============================] - 9s 6ms/step - loss: 0.1346 - accuracy: 0.9542 - val_loss: 0.7202 - val_accuracy: 0.8257\n",
            "Epoch 16/50\n",
            "1563/1563 [==============================] - 9s 6ms/step - loss: 0.1263 - accuracy: 0.9571 - val_loss: 0.7434 - val_accuracy: 0.8245\n",
            "Epoch 17/50\n",
            "1563/1563 [==============================] - 9s 6ms/step - loss: 0.1201 - accuracy: 0.9596 - val_loss: 0.8015 - val_accuracy: 0.8273\n",
            "Epoch 18/50\n",
            "1563/1563 [==============================] - 9s 6ms/step - loss: 0.1097 - accuracy: 0.9635 - val_loss: 0.6994 - val_accuracy: 0.8337\n",
            "Epoch 19/50\n",
            "1563/1563 [==============================] - 9s 6ms/step - loss: 0.0997 - accuracy: 0.9658 - val_loss: 0.8922 - val_accuracy: 0.8112\n",
            "Epoch 20/50\n",
            "1563/1563 [==============================] - 9s 6ms/step - loss: 0.1006 - accuracy: 0.9670 - val_loss: 0.7417 - val_accuracy: 0.8381\n",
            "Epoch 21/50\n",
            "1563/1563 [==============================] - 9s 6ms/step - loss: 0.0898 - accuracy: 0.9703 - val_loss: 0.7197 - val_accuracy: 0.8262\n",
            "Epoch 22/50\n",
            "1563/1563 [==============================] - 9s 6ms/step - loss: 0.0928 - accuracy: 0.9694 - val_loss: 1.0628 - val_accuracy: 0.7861\n",
            "Epoch 23/50\n",
            "1563/1563 [==============================] - 9s 6ms/step - loss: 0.0837 - accuracy: 0.9716 - val_loss: 0.7947 - val_accuracy: 0.8300\n",
            "Epoch 24/50\n",
            "1563/1563 [==============================] - 9s 6ms/step - loss: 0.0785 - accuracy: 0.9741 - val_loss: 0.8850 - val_accuracy: 0.8162\n",
            "Epoch 25/50\n",
            "1563/1563 [==============================] - 9s 6ms/step - loss: 0.0771 - accuracy: 0.9743 - val_loss: 0.7838 - val_accuracy: 0.8374\n",
            "Epoch 26/50\n",
            "1563/1563 [==============================] - 9s 6ms/step - loss: 0.0707 - accuracy: 0.9770 - val_loss: 0.7570 - val_accuracy: 0.8350\n",
            "Epoch 27/50\n",
            "1563/1563 [==============================] - 9s 6ms/step - loss: 0.0733 - accuracy: 0.9764 - val_loss: 0.7839 - val_accuracy: 0.8359\n",
            "Epoch 28/50\n",
            "1563/1563 [==============================] - 9s 6ms/step - loss: 0.0656 - accuracy: 0.9788 - val_loss: 0.8337 - val_accuracy: 0.8339\n",
            "Epoch 29/50\n",
            "1563/1563 [==============================] - 9s 6ms/step - loss: 0.0673 - accuracy: 0.9777 - val_loss: 0.7736 - val_accuracy: 0.8375\n",
            "Epoch 30/50\n",
            "1563/1563 [==============================] - 9s 6ms/step - loss: 0.0606 - accuracy: 0.9798 - val_loss: 0.8178 - val_accuracy: 0.8355\n",
            "Epoch 31/50\n",
            "1563/1563 [==============================] - 9s 6ms/step - loss: 0.0612 - accuracy: 0.9799 - val_loss: 0.7716 - val_accuracy: 0.8325\n",
            "Epoch 32/50\n",
            "1563/1563 [==============================] - 9s 6ms/step - loss: 0.0605 - accuracy: 0.9805 - val_loss: 0.9108 - val_accuracy: 0.8338\n",
            "Epoch 33/50\n",
            "1563/1563 [==============================] - 9s 6ms/step - loss: 0.0563 - accuracy: 0.9814 - val_loss: 0.8415 - val_accuracy: 0.8410\n",
            "Epoch 34/50\n",
            "1563/1563 [==============================] - 9s 6ms/step - loss: 0.0556 - accuracy: 0.9822 - val_loss: 0.8707 - val_accuracy: 0.8345\n",
            "Epoch 35/50\n",
            "1563/1563 [==============================] - 9s 6ms/step - loss: 0.0565 - accuracy: 0.9815 - val_loss: 0.9041 - val_accuracy: 0.8367\n",
            "Epoch 36/50\n",
            "1563/1563 [==============================] - 9s 6ms/step - loss: 0.0528 - accuracy: 0.9829 - val_loss: 0.9055 - val_accuracy: 0.8361\n",
            "Epoch 37/50\n",
            "1563/1563 [==============================] - 9s 6ms/step - loss: 0.0508 - accuracy: 0.9836 - val_loss: 0.9163 - val_accuracy: 0.8321\n",
            "Epoch 38/50\n",
            "1563/1563 [==============================] - 9s 6ms/step - loss: 0.0526 - accuracy: 0.9831 - val_loss: 0.8780 - val_accuracy: 0.8373\n",
            "Epoch 39/50\n",
            "1563/1563 [==============================] - 9s 6ms/step - loss: 0.0498 - accuracy: 0.9841 - val_loss: 0.9515 - val_accuracy: 0.8358\n",
            "Epoch 40/50\n",
            "1563/1563 [==============================] - 9s 6ms/step - loss: 0.0446 - accuracy: 0.9856 - val_loss: 0.9043 - val_accuracy: 0.8402\n",
            "Epoch 41/50\n",
            "1563/1563 [==============================] - 9s 6ms/step - loss: 0.0514 - accuracy: 0.9841 - val_loss: 0.9139 - val_accuracy: 0.8326\n",
            "Epoch 42/50\n",
            "1563/1563 [==============================] - 9s 6ms/step - loss: 0.0455 - accuracy: 0.9851 - val_loss: 0.8408 - val_accuracy: 0.8402\n",
            "Epoch 43/50\n",
            "1563/1563 [==============================] - 9s 6ms/step - loss: 0.0480 - accuracy: 0.9850 - val_loss: 0.8132 - val_accuracy: 0.8443\n",
            "Epoch 44/50\n",
            "1563/1563 [==============================] - 9s 6ms/step - loss: 0.0426 - accuracy: 0.9866 - val_loss: 0.8014 - val_accuracy: 0.8408\n",
            "Epoch 45/50\n",
            "1563/1563 [==============================] - 9s 6ms/step - loss: 0.0474 - accuracy: 0.9847 - val_loss: 0.9269 - val_accuracy: 0.8368\n",
            "Epoch 46/50\n",
            "1563/1563 [==============================] - 9s 6ms/step - loss: 0.0424 - accuracy: 0.9861 - val_loss: 0.8653 - val_accuracy: 0.8480\n",
            "Epoch 47/50\n",
            "1563/1563 [==============================] - 9s 6ms/step - loss: 0.0421 - accuracy: 0.9861 - val_loss: 0.8778 - val_accuracy: 0.8406\n",
            "Epoch 48/50\n",
            "1563/1563 [==============================] - 9s 6ms/step - loss: 0.0421 - accuracy: 0.9868 - val_loss: 0.8909 - val_accuracy: 0.8376\n",
            "Epoch 49/50\n",
            "1563/1563 [==============================] - 10s 6ms/step - loss: 0.0409 - accuracy: 0.9870 - val_loss: 0.9695 - val_accuracy: 0.8381\n",
            "Epoch 50/50\n",
            "1563/1563 [==============================] - 9s 6ms/step - loss: 0.0410 - accuracy: 0.9869 - val_loss: 0.8318 - val_accuracy: 0.8450\n"
          ],
          "name": "stdout"
        }
      ]
    },
    {
      "cell_type": "code",
      "metadata": {
        "id": "af61hXUrYjsZ",
        "outputId": "bf39e0cb-2911-4e2b-8eec-6c3b6446bb77",
        "colab": {
          "base_uri": "https://localhost:8080/"
        }
      },
      "source": [
        "# Fit with data augmentation\n",
        "# Note: if you run this AFTER calling the previous model.fit(), it will CONTINUE training where it left off\n",
        "batch_size = 32\n",
        "data_generator = tf.keras.preprocessing.image.ImageDataGenerator(width_shift_range=0.1, height_shift_range=0.1, horizontal_flip=True)\n",
        "train_generator = data_generator.flow(x_train, y_train, batch_size)\n",
        "steps_per_epoch = x_train.shape[0] // batch_size\n",
        "r = model.fit(train_generator, validation_data=(x_test, y_test), steps_per_epoch=steps_per_epoch, epochs=50)"
      ],
      "execution_count": 8,
      "outputs": [
        {
          "output_type": "stream",
          "text": [
            "Epoch 1/50\n",
            "1562/1562 [==============================] - 27s 18ms/step - loss: 0.5419 - accuracy: 0.8270 - val_loss: 0.5067 - val_accuracy: 0.8372\n",
            "Epoch 2/50\n",
            "1562/1562 [==============================] - 27s 17ms/step - loss: 0.4385 - accuracy: 0.8549 - val_loss: 0.4793 - val_accuracy: 0.8429\n",
            "Epoch 3/50\n",
            "1562/1562 [==============================] - 27s 18ms/step - loss: 0.4006 - accuracy: 0.8672 - val_loss: 0.5132 - val_accuracy: 0.8431\n",
            "Epoch 4/50\n",
            "1562/1562 [==============================] - 27s 17ms/step - loss: 0.3863 - accuracy: 0.8724 - val_loss: 0.4365 - val_accuracy: 0.8581\n",
            "Epoch 5/50\n",
            "1562/1562 [==============================] - 28s 18ms/step - loss: 0.3621 - accuracy: 0.8775 - val_loss: 0.4428 - val_accuracy: 0.8606\n",
            "Epoch 6/50\n",
            "1562/1562 [==============================] - 27s 17ms/step - loss: 0.3504 - accuracy: 0.8821 - val_loss: 0.4091 - val_accuracy: 0.8671\n",
            "Epoch 7/50\n",
            "1562/1562 [==============================] - 27s 17ms/step - loss: 0.3356 - accuracy: 0.8871 - val_loss: 0.4513 - val_accuracy: 0.8572\n",
            "Epoch 8/50\n",
            "1562/1562 [==============================] - 27s 17ms/step - loss: 0.3240 - accuracy: 0.8918 - val_loss: 0.4284 - val_accuracy: 0.8639\n",
            "Epoch 9/50\n",
            "1562/1562 [==============================] - 27s 17ms/step - loss: 0.3157 - accuracy: 0.8949 - val_loss: 0.4526 - val_accuracy: 0.8610\n",
            "Epoch 10/50\n",
            "1562/1562 [==============================] - 27s 17ms/step - loss: 0.3023 - accuracy: 0.8985 - val_loss: 0.4726 - val_accuracy: 0.8523\n",
            "Epoch 11/50\n",
            "1562/1562 [==============================] - 28s 18ms/step - loss: 0.2960 - accuracy: 0.8995 - val_loss: 0.4157 - val_accuracy: 0.8739\n",
            "Epoch 12/50\n",
            "1562/1562 [==============================] - 28s 18ms/step - loss: 0.2908 - accuracy: 0.9010 - val_loss: 0.4019 - val_accuracy: 0.8697\n",
            "Epoch 13/50\n",
            "1562/1562 [==============================] - 28s 18ms/step - loss: 0.2820 - accuracy: 0.9053 - val_loss: 0.4195 - val_accuracy: 0.8672\n",
            "Epoch 14/50\n",
            "1562/1562 [==============================] - 28s 18ms/step - loss: 0.2793 - accuracy: 0.9059 - val_loss: 0.4199 - val_accuracy: 0.8690\n",
            "Epoch 15/50\n",
            "1562/1562 [==============================] - 28s 18ms/step - loss: 0.2710 - accuracy: 0.9086 - val_loss: 0.4339 - val_accuracy: 0.8719\n",
            "Epoch 16/50\n",
            "1562/1562 [==============================] - 28s 18ms/step - loss: 0.2591 - accuracy: 0.9129 - val_loss: 0.4211 - val_accuracy: 0.8702\n",
            "Epoch 17/50\n",
            "1562/1562 [==============================] - 28s 18ms/step - loss: 0.2604 - accuracy: 0.9117 - val_loss: 0.4256 - val_accuracy: 0.8647\n",
            "Epoch 18/50\n",
            "1562/1562 [==============================] - 28s 18ms/step - loss: 0.2563 - accuracy: 0.9124 - val_loss: 0.4113 - val_accuracy: 0.8698\n",
            "Epoch 19/50\n",
            "1562/1562 [==============================] - 28s 18ms/step - loss: 0.2418 - accuracy: 0.9169 - val_loss: 0.4178 - val_accuracy: 0.8738\n",
            "Epoch 20/50\n",
            "1562/1562 [==============================] - 28s 18ms/step - loss: 0.2430 - accuracy: 0.9179 - val_loss: 0.4649 - val_accuracy: 0.8699\n",
            "Epoch 21/50\n",
            "1562/1562 [==============================] - 28s 18ms/step - loss: 0.2426 - accuracy: 0.9188 - val_loss: 0.4525 - val_accuracy: 0.8665\n",
            "Epoch 22/50\n",
            "1562/1562 [==============================] - 28s 18ms/step - loss: 0.2324 - accuracy: 0.9213 - val_loss: 0.3948 - val_accuracy: 0.8745\n",
            "Epoch 23/50\n",
            "1562/1562 [==============================] - 28s 18ms/step - loss: 0.2271 - accuracy: 0.9236 - val_loss: 0.4256 - val_accuracy: 0.8691\n",
            "Epoch 24/50\n",
            "1562/1562 [==============================] - 28s 18ms/step - loss: 0.2276 - accuracy: 0.9223 - val_loss: 0.4284 - val_accuracy: 0.8720\n",
            "Epoch 25/50\n",
            "1562/1562 [==============================] - 28s 18ms/step - loss: 0.2198 - accuracy: 0.9247 - val_loss: 0.4427 - val_accuracy: 0.8740\n",
            "Epoch 26/50\n",
            "1562/1562 [==============================] - 28s 18ms/step - loss: 0.2180 - accuracy: 0.9268 - val_loss: 0.4248 - val_accuracy: 0.8756\n",
            "Epoch 27/50\n",
            "1562/1562 [==============================] - 27s 18ms/step - loss: 0.2118 - accuracy: 0.9282 - val_loss: 0.4087 - val_accuracy: 0.8742\n",
            "Epoch 28/50\n",
            "1562/1562 [==============================] - 28s 18ms/step - loss: 0.2111 - accuracy: 0.9287 - val_loss: 0.4241 - val_accuracy: 0.8820\n",
            "Epoch 29/50\n",
            "1562/1562 [==============================] - 28s 18ms/step - loss: 0.2057 - accuracy: 0.9301 - val_loss: 0.4204 - val_accuracy: 0.8762\n",
            "Epoch 30/50\n",
            "1562/1562 [==============================] - 28s 18ms/step - loss: 0.2063 - accuracy: 0.9308 - val_loss: 0.4537 - val_accuracy: 0.8787\n",
            "Epoch 31/50\n",
            "1562/1562 [==============================] - 28s 18ms/step - loss: 0.2068 - accuracy: 0.9301 - val_loss: 0.4214 - val_accuracy: 0.8739\n",
            "Epoch 32/50\n",
            "1562/1562 [==============================] - 28s 18ms/step - loss: 0.1959 - accuracy: 0.9346 - val_loss: 0.4801 - val_accuracy: 0.8759\n",
            "Epoch 33/50\n",
            "1562/1562 [==============================] - 28s 18ms/step - loss: 0.1954 - accuracy: 0.9345 - val_loss: 0.4442 - val_accuracy: 0.8750\n",
            "Epoch 34/50\n",
            "1562/1562 [==============================] - 29s 18ms/step - loss: 0.1940 - accuracy: 0.9338 - val_loss: 0.4386 - val_accuracy: 0.8760\n",
            "Epoch 35/50\n",
            "1562/1562 [==============================] - 28s 18ms/step - loss: 0.1948 - accuracy: 0.9343 - val_loss: 0.4297 - val_accuracy: 0.8736\n",
            "Epoch 36/50\n",
            "1562/1562 [==============================] - 28s 18ms/step - loss: 0.1905 - accuracy: 0.9351 - val_loss: 0.4386 - val_accuracy: 0.8787\n",
            "Epoch 37/50\n",
            "1562/1562 [==============================] - 28s 18ms/step - loss: 0.1889 - accuracy: 0.9364 - val_loss: 0.4620 - val_accuracy: 0.8703\n",
            "Epoch 38/50\n",
            "1562/1562 [==============================] - 28s 18ms/step - loss: 0.1813 - accuracy: 0.9382 - val_loss: 0.4456 - val_accuracy: 0.8724\n",
            "Epoch 39/50\n",
            "1562/1562 [==============================] - 28s 18ms/step - loss: 0.1825 - accuracy: 0.9380 - val_loss: 0.4360 - val_accuracy: 0.8798\n",
            "Epoch 40/50\n",
            "1562/1562 [==============================] - 28s 18ms/step - loss: 0.1840 - accuracy: 0.9386 - val_loss: 0.4536 - val_accuracy: 0.8772\n",
            "Epoch 41/50\n",
            "1562/1562 [==============================] - 28s 18ms/step - loss: 0.1821 - accuracy: 0.9388 - val_loss: 0.4252 - val_accuracy: 0.8810\n",
            "Epoch 42/50\n",
            "1562/1562 [==============================] - 28s 18ms/step - loss: 0.1782 - accuracy: 0.9397 - val_loss: 0.4520 - val_accuracy: 0.8821\n",
            "Epoch 43/50\n",
            "1562/1562 [==============================] - 28s 18ms/step - loss: 0.1738 - accuracy: 0.9412 - val_loss: 0.4077 - val_accuracy: 0.8816\n",
            "Epoch 44/50\n",
            "1562/1562 [==============================] - 28s 18ms/step - loss: 0.1747 - accuracy: 0.9401 - val_loss: 0.4218 - val_accuracy: 0.8815\n",
            "Epoch 45/50\n",
            "1562/1562 [==============================] - 28s 18ms/step - loss: 0.1723 - accuracy: 0.9413 - val_loss: 0.4536 - val_accuracy: 0.8756\n",
            "Epoch 46/50\n",
            "1562/1562 [==============================] - 28s 18ms/step - loss: 0.1695 - accuracy: 0.9423 - val_loss: 0.4679 - val_accuracy: 0.8701\n",
            "Epoch 47/50\n",
            "1562/1562 [==============================] - 28s 18ms/step - loss: 0.1726 - accuracy: 0.9424 - val_loss: 0.4622 - val_accuracy: 0.8768\n",
            "Epoch 48/50\n",
            "1562/1562 [==============================] - 28s 18ms/step - loss: 0.1694 - accuracy: 0.9435 - val_loss: 0.4103 - val_accuracy: 0.8850\n",
            "Epoch 49/50\n",
            "1562/1562 [==============================] - 28s 18ms/step - loss: 0.1644 - accuracy: 0.9436 - val_loss: 0.3878 - val_accuracy: 0.8834\n",
            "Epoch 50/50\n",
            "1562/1562 [==============================] - 28s 18ms/step - loss: 0.1614 - accuracy: 0.9458 - val_loss: 0.5613 - val_accuracy: 0.8564\n"
          ],
          "name": "stdout"
        }
      ]
    },
    {
      "cell_type": "code",
      "metadata": {
        "id": "ML37hw4iOkBm",
        "outputId": "3171cbd7-556d-40f5-ae27-cd495e190b10",
        "colab": {
          "base_uri": "https://localhost:8080/",
          "height": 282
        }
      },
      "source": [
        "# Plot loss per iteration\n",
        "import matplotlib.pyplot as plt\n",
        "plt.plot(r.history['loss'], label='loss')\n",
        "plt.plot(r.history['val_loss'], label='val_loss')\n",
        "plt.legend()"
      ],
      "execution_count": 9,
      "outputs": [
        {
          "output_type": "execute_result",
          "data": {
            "text/plain": [
              "<matplotlib.legend.Legend at 0x7f728863d6a0>"
            ]
          },
          "metadata": {
            "tags": []
          },
          "execution_count": 9
        },
        {
          "output_type": "display_data",
          "data": {
            "image/png": "[encoded data removed]",
            "text/plain": [
              "<Figure size 432x288 with 1 Axes>"
            ]
          },
          "metadata": {
            "tags": [],
            "needs_background": "light"
          }
        }
      ]
    },
    {
      "cell_type": "code",
      "metadata": {
        "id": "pemstSDIOpIb",
        "outputId": "29296487-1e4d-4412-bf15-2b4e3038f997",
        "colab": {
          "base_uri": "https://localhost:8080/",
          "height": 282
        }
      },
      "source": [
        "# Plot accuracy per iteration\n",
        "plt.plot(r.history['accuracy'], label='acc')\n",
        "plt.plot(r.history['val_accuracy'], label='val_acc')\n",
        "plt.legend()"
      ],
      "execution_count": 10,
      "outputs": [
        {
          "output_type": "execute_result",
          "data": {
            "text/plain": [
              "<matplotlib.legend.Legend at 0x7f7288616e80>"
            ]
          },
          "metadata": {
            "tags": []
          },
          "execution_count": 10
        },
        {
          "output_type": "display_data",
          "data": {
            "image/png": "[encoded data removed]",
            "text/plain": [
              "<Figure size 432x288 with 1 Axes>"
            ]
          },
          "metadata": {
            "tags": [],
            "needs_background": "light"
          }
        }
      ]
    },
    {
      "cell_type": "code",
      "metadata": {
        "id": "2LJTd4OiO6kL",
        "outputId": "951d9420-d082-47bf-fc33-160f5c200d52",
        "colab": {
          "base_uri": "https://localhost:8080/",
          "height": 496
        }
      },
      "source": [
        "# Plot confusion matrix\n",
        "from sklearn.metrics import confusion_matrix\n",
        "import itertools\n",
        "\n",
        "def plot_confusion_matrix(cm, classes,\n",
        "                          normalize=False,\n",
        "                          title='Confusion matrix',\n",
        "                          cmap=plt.cm.Blues):\n",
        "  \"\"\"\n",
        "  This function prints and plots the confusion matrix.\n",
        "  Normalization can be applied by setting `normalize=True`.\n",
        "  \"\"\"\n",
        "  if normalize:\n",
        "      cm = cm.astype('float') / cm.sum(axis=1)[:, np.newaxis]\n",
        "      print(\"Normalized confusion matrix\")\n",
        "  else:\n",
        "      print('Confusion matrix, without normalization')\n",
        "\n",
        "  print(cm)\n",
        "\n",
        "  plt.imshow(cm, interpolation='nearest', cmap=cmap)\n",
        "  plt.title(title)\n",
        "  plt.colorbar()\n",
        "  tick_marks = np.arange(len(classes))\n",
        "  plt.xticks(tick_marks, classes, rotation=45)\n",
        "  plt.yticks(tick_marks, classes)\n",
        "\n",
        "  fmt = '.2f' if normalize else 'd'\n",
        "  thresh = cm.max() / 2.\n",
        "  for i, j in itertools.product(range(cm.shape[0]), range(cm.shape[1])):\n",
        "      plt.text(j, i, format(cm[i, j], fmt),\n",
        "               horizontalalignment=\"center\",\n",
        "               color=\"white\" if cm[i, j] > thresh else \"black\")\n",
        "\n",
        "  plt.tight_layout()\n",
        "  plt.ylabel('True label')\n",
        "  plt.xlabel('Predicted label')\n",
        "  plt.show()\n",
        "\n",
        "\n",
        "p_test = model.predict(x_test).argmax(axis=1)\n",
        "cm = confusion_matrix(y_test, p_test)\n",
        "plot_confusion_matrix(cm, list(range(10)))\n",
        "\n"
      ],
      "execution_count": 11,
      "outputs": [
        {
          "output_type": "stream",
          "text": [
            "Confusion matrix, without normalization\n",
            "[[929   7  11   5   3   2   6   4  16  17]\n",
            " [  5 973   0   0   1   0   1   0   5  15]\n",
            " [ 46   4 802  38  33  17  45   2   4   9]\n",
            " [ 25   6  39 737  27  79  60   8   7  12]\n",
            " [ 13   3  37  41 829   9  51  11   4   2]\n",
            " [ 16   4  27 125  25 742  35  15   4   7]\n",
            " [  6   4  15  22   5   3 938   1   4   2]\n",
            " [ 22   2  15  39  28  23   8 854   2   7]\n",
            " [ 78  23   6   6   3   0   7   0 856  21]\n",
            " [ 15  66   1   4   0   0   5   1   4 904]]\n"
          ],
          "name": "stdout"
        },
        {
          "output_type": "display_data",
          "data": {
            "image/png": "[encoded data removed]",
            "text/plain": [
              "<Figure size 432x288 with 2 Axes>"
            ]
          },
          "metadata": {
            "tags": [],
            "needs_background": "light"
          }
        }
      ]
    },
    {
      "cell_type": "code",
      "metadata": {
        "id": "AgQqQHXNXDgw"
      },
      "source": [
        "# label mapping\n",
        "labels = '''airplane\n",
        "automobile\n",
        "bird\n",
        "cat\n",
        "deer\n",
        "dog\n",
        "frog\n",
        "horse\n",
        "ship\n",
        "truck'''.split()"
      ],
      "execution_count": 12,
      "outputs": []
    },
    {
      "cell_type": "code",
      "metadata": {
        "id": "jjmW4STFO-Ny",
        "outputId": "c79949ba-a625-49a3-a55e-308cea477b96",
        "colab": {
          "base_uri": "https://localhost:8080/",
          "height": 281
        }
      },
      "source": [
        "# Show some misclassified examples\n",
        "misclassified_idx = np.where(p_test != y_test)[0]\n",
        "i = np.random.choice(misclassified_idx)\n",
        "plt.imshow(x_test[i], cmap='gray')\n",
        "plt.title(\"True label: %s Predicted: %s\" % (labels[y_test[i]], labels[p_test[i]]));"
      ],
      "execution_count": 13,
      "outputs": [
        {
          "output_type": "display_data",
          "data": {
            "image/png": "[encoded data removed]",
            "text/plain": [
              "<Figure size 432x288 with 1 Axes>"
            ]
          },
          "metadata": {
            "tags": [],
            "needs_background": "light"
          }
        }
      ]
    },
    {
      "cell_type": "code",
      "metadata": {
        "id": "qNw6PmshWjoZ",
        "outputId": "286b3bdc-1902-4855-8914-c9f44085fce9",
        "colab": {
          "base_uri": "https://localhost:8080/"
        }
      },
      "source": [
        "# Now that the model is so large, it's useful to summarize it\n",
        "model.summary()"
      ],
      "execution_count": 14,
      "outputs": [
        {
          "output_type": "stream",
          "text": [
            "Model: \"functional_1\"\n",
            "_________________________________________________________________\n",
            "Layer (type)                 Output Shape              Param #   \n",
            "=================================================================\n",
            "input_1 (InputLayer)         [(None, 32, 32, 3)]       0         \n",
            "_________________________________________________________________\n",
            "conv2d (Conv2D)              (None, 32, 32, 32)        896       \n",
            "_________________________________________________________________\n",
            "batch_normalization (BatchNo (None, 32, 32, 32)        128       \n",
            "_________________________________________________________________\n",
            "conv2d_1 (Conv2D)            (None, 32, 32, 32)        9248      \n",
            "_________________________________________________________________\n",
            "batch_normalization_1 (Batch (None, 32, 32, 32)        128       \n",
            "_________________________________________________________________\n",
            "max_pooling2d (MaxPooling2D) (None, 16, 16, 32)        0         \n",
            "_________________________________________________________________\n",
            "conv2d_2 (Conv2D)            (None, 16, 16, 64)        18496     \n",
            "_________________________________________________________________\n",
            "batch_normalization_2 (Batch (None, 16, 16, 64)        256       \n",
            "_________________________________________________________________\n",
            "conv2d_3 (Conv2D)            (None, 16, 16, 64)        36928     \n",
            "_________________________________________________________________\n",
            "batch_normalization_3 (Batch (None, 16, 16, 64)        256       \n",
            "_________________________________________________________________\n",
            "max_pooling2d_1 (MaxPooling2 (None, 8, 8, 64)          0         \n",
            "_________________________________________________________________\n",
            "conv2d_4 (Conv2D)            (None, 8, 8, 128)         73856     \n",
            "_________________________________________________________________\n",
            "batch_normalization_4 (Batch (None, 8, 8, 128)         512       \n",
            "_________________________________________________________________\n",
            "conv2d_5 (Conv2D)            (None, 8, 8, 128)         147584    \n",
            "_________________________________________________________________\n",
            "batch_normalization_5 (Batch (None, 8, 8, 128)         512       \n",
            "_________________________________________________________________\n",
            "max_pooling2d_2 (MaxPooling2 (None, 4, 4, 128)         0         \n",
            "_________________________________________________________________\n",
            "flatten (Flatten)            (None, 2048)              0         \n",
            "_________________________________________________________________\n",
            "dropout (Dropout)            (None, 2048)              0         \n",
            "_________________________________________________________________\n",
            "dense (Dense)                (None, 1024)              2098176   \n",
            "_________________________________________________________________\n",
            "dropout_1 (Dropout)          (None, 1024)              0         \n",
            "_________________________________________________________________\n",
            "dense_1 (Dense)              (None, 10)                10250     \n",
            "=================================================================\n",
            "Total params: 2,397,226\n",
            "Trainable params: 2,396,330\n",
            "Non-trainable params: 896\n",
            "_________________________________________________________________\n"
          ],
          "name": "stdout"
        }
      ]
    }
  ]
}