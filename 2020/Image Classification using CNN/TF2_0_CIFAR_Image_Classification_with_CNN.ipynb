{
  "nbformat": 4,
  "nbformat_minor": 0,
  "metadata": {
    "colab": {
      "name": "TF2.0 CIFAR - Image Classification with CNN.ipynb",
      "provenance": [],
      "collapsed_sections": []
    },
    "kernelspec": {
      "name": "python3",
      "display_name": "Python 3"
    },
    "accelerator": "GPU"
  },
  "cells": [
    {
      "cell_type": "code",
      "metadata": {
        "id": "pmNpq8GML1jW",
        "colab": {
          "base_uri": "https://localhost:8080/"
        },
        "outputId": "949d0439-413a-4b52-ebd7-7676fa2f9a36"
      },
      "source": [
        "# This notebook has been highly inspired by the materials thought in Udemy's course \"Tensorflow 2.0: Deep Learning and Artificial Intelligence\".\n",
        "#https://www.udemy.com/course/deep-learning-tensorflow-2/\n",
        "# Install TensorFlow\n",
        "# !pip install -q tensorflow-gpu==2.0.0-beta1\n",
        "\n",
        "try:\n",
        "  %tensorflow_version 2.x  # Colab only.\n",
        "except Exception:\n",
        "  pass\n",
        "\n",
        "import tensorflow as tf\n",
        "print(tf.__version__)"
      ],
      "execution_count": null,
      "outputs": [
        {
          "output_type": "stream",
          "text": [
            "`%tensorflow_version` only switches the major version: 1.x or 2.x.\n",
            "You set: `2.x  # Colab only.`. This will be interpreted as: `2.x`.\n",
            "\n",
            "\n",
            "TensorFlow 2.x selected.\n",
            "2.3.0\n"
          ],
          "name": "stdout"
        }
      ]
    },
    {
      "cell_type": "code",
      "metadata": {
        "id": "cBJh6ib6MEIW"
      },
      "source": [
        "import numpy as np\n",
        "import matplotlib.pyplot as plt\n",
        "from tensorflow.keras.layers import Input, Conv2D, Dense, Flatten, Dropout, MaxPooling2D, BatchNormalization\n",
        "from tensorflow.keras.models import Model"
      ],
      "execution_count": null,
      "outputs": []
    },
    {
      "cell_type": "code",
      "metadata": {
        "id": "H_EGZv1TL4S_",
        "colab": {
          "base_uri": "https://localhost:8080/"
        },
        "outputId": "aeacf106-23d0-41d3-bc87-6888383d8f22"
      },
      "source": [
        "# Load in the data\n",
        "cifar10 = tf.keras.datasets.cifar10\n",
        "\n",
        "(x_train, y_train), (x_test, y_test) = cifar10.load_data()\n",
        "x_train, x_test = x_train / 255.0, x_test / 255.0\n",
        "y_train, y_test = y_train.flatten(), y_test.flatten()\n",
        "print(\"x_train.shape:\", x_train.shape)\n",
        "print(\"y_train.shape\", y_train.shape)"
      ],
      "execution_count": null,
      "outputs": [
        {
          "output_type": "stream",
          "text": [
            "Downloading data from https://www.cs.toronto.edu/~kriz/cifar-10-python.tar.gz\n",
            "170500096/170498071 [==============================] - 2s 0us/step\n",
            "x_train.shape: (50000, 32, 32, 3)\n",
            "y_train.shape (50000,)\n"
          ],
          "name": "stdout"
        }
      ]
    },
    {
      "cell_type": "code",
      "metadata": {
        "id": "1Wr15bYpMwbB",
        "colab": {
          "base_uri": "https://localhost:8080/"
        },
        "outputId": "e8b1f1ac-c473-439b-aa9b-cf2520c0557b"
      },
      "source": [
        "# number of classes\n",
        "K = len(set(y_train))\n",
        "print(\"number of classes:\", K)"
      ],
      "execution_count": null,
      "outputs": [
        {
          "output_type": "stream",
          "text": [
            "number of classes: 10\n"
          ],
          "name": "stdout"
        }
      ]
    },
    {
      "cell_type": "code",
      "metadata": {
        "id": "Mmo66uQoMA1Q"
      },
      "source": [
        "# Build the model using the functional API\n",
        "i = Input(shape=x_train[0].shape)\n",
        "\n",
        "\n",
        "x = Conv2D(32, (3, 3), activation='relu', padding='same')(i)\n",
        "x = BatchNormalization()(x)\n",
        "x = Conv2D(32, (3, 3), activation='relu', padding='same')(x)\n",
        "x = BatchNormalization()(x)\n",
        "x = MaxPooling2D((2, 2))(x)\n",
        "# x = Dropout(0.2)(x)\n",
        "x = Conv2D(64, (3, 3), activation='relu', padding='same')(x)\n",
        "x = BatchNormalization()(x)\n",
        "x = Conv2D(64, (3, 3), activation='relu', padding='same')(x)\n",
        "x = BatchNormalization()(x)\n",
        "x = MaxPooling2D((2, 2))(x)\n",
        "# x = Dropout(0.2)(x)\n",
        "x = Conv2D(128, (3, 3), activation='relu', padding='same')(x)\n",
        "x = BatchNormalization()(x)\n",
        "x = Conv2D(128, (3, 3), activation='relu', padding='same')(x)\n",
        "x = BatchNormalization()(x)\n",
        "x = MaxPooling2D((2, 2))(x)\n",
        "# x = Dropout(0.2)(x)\n",
        "\n",
        "\n",
        "x = Flatten()(x)\n",
        "x = Dropout(0.2)(x)\n",
        "x = Dense(1024, activation='relu')(x)\n",
        "x = Dropout(0.2)(x)\n",
        "x = Dense(K, activation='softmax')(x)\n",
        "\n",
        "model = Model(i, x)"
      ],
      "execution_count": null,
      "outputs": []
    },
    {
      "cell_type": "code",
      "metadata": {
        "id": "0zF9n0P7NcP-"
      },
      "source": [
        "# Compile\n",
        "# Note: make sure you are using the GPU for this!\n",
        "model.compile(optimizer='adam',\n",
        "              loss='sparse_categorical_crossentropy',\n",
        "              metrics=['accuracy'])"
      ],
      "execution_count": null,
      "outputs": []
    },
    {
      "cell_type": "code",
      "metadata": {
        "id": "BBzAGEjOkvFz",
        "colab": {
          "base_uri": "https://localhost:8080/"
        },
        "outputId": "230cbe83-2cf1-4bde-a4a9-c564f539068b"
      },
      "source": [
        "# Fit\n",
        "r = model.fit(x_train, y_train, validation_data=(x_test, y_test), epochs=50)"
      ],
      "execution_count": null,
      "outputs": [
        {
          "output_type": "stream",
          "text": [
            "Epoch 1/50\n",
            "1563/1563 [==============================] - 9s 6ms/step - loss: 1.2937 - accuracy: 0.5555 - val_loss: 1.2122 - val_accuracy: 0.5857\n",
            "Epoch 2/50\n",
            "1563/1563 [==============================] - 9s 6ms/step - loss: 0.8427 - accuracy: 0.7084 - val_loss: 1.0050 - val_accuracy: 0.6606\n",
            "Epoch 3/50\n",
            "1563/1563 [==============================] - 9s 6ms/step - loss: 0.6973 - accuracy: 0.7611 - val_loss: 0.7260 - val_accuracy: 0.7496\n",
            "Epoch 4/50\n",
            "1563/1563 [==============================] - 9s 6ms/step - loss: 0.5920 - accuracy: 0.7961 - val_loss: 0.7333 - val_accuracy: 0.7548\n",
            "Epoch 5/50\n",
            "1563/1563 [==============================] - 9s 6ms/step - loss: 0.4938 - accuracy: 0.8313 - val_loss: 0.6042 - val_accuracy: 0.7992\n",
            "Epoch 6/50\n",
            "1563/1563 [==============================] - 9s 6ms/step - loss: 0.4247 - accuracy: 0.8545 - val_loss: 0.6749 - val_accuracy: 0.7830\n",
            "Epoch 7/50\n",
            "1563/1563 [==============================] - 9s 6ms/step - loss: 0.3577 - accuracy: 0.8763 - val_loss: 0.6202 - val_accuracy: 0.8019\n",
            "Epoch 8/50\n",
            "1563/1563 [==============================] - 9s 6ms/step - loss: 0.3023 - accuracy: 0.8959 - val_loss: 0.7930 - val_accuracy: 0.7515\n",
            "Epoch 9/50\n",
            "1563/1563 [==============================] - 9s 6ms/step - loss: 0.2575 - accuracy: 0.9123 - val_loss: 0.6914 - val_accuracy: 0.8028\n",
            "Epoch 10/50\n",
            "1563/1563 [==============================] - 9s 6ms/step - loss: 0.2275 - accuracy: 0.9216 - val_loss: 0.7096 - val_accuracy: 0.8109\n",
            "Epoch 11/50\n",
            "1563/1563 [==============================] - 9s 6ms/step - loss: 0.1963 - accuracy: 0.9330 - val_loss: 0.6435 - val_accuracy: 0.8243\n",
            "Epoch 12/50\n",
            "1563/1563 [==============================] - 9s 6ms/step - loss: 0.1749 - accuracy: 0.9410 - val_loss: 0.6994 - val_accuracy: 0.8149\n",
            "Epoch 13/50\n",
            "1563/1563 [==============================] - 9s 6ms/step - loss: 0.1601 - accuracy: 0.9449 - val_loss: 0.7498 - val_accuracy: 0.8079\n",
            "Epoch 14/50\n",
            "1563/1563 [==============================] - 9s 6ms/step - loss: 0.1432 - accuracy: 0.9510 - val_loss: 0.7475 - val_accuracy: 0.8196\n",
            "Epoch 15/50\n",
            "1563/1563 [==============================] - 9s 6ms/step - loss: 0.1346 - accuracy: 0.9542 - val_loss: 0.7202 - val_accuracy: 0.8257\n",
            "Epoch 16/50\n",
            "1563/1563 [==============================] - 9s 6ms/step - loss: 0.1263 - accuracy: 0.9571 - val_loss: 0.7434 - val_accuracy: 0.8245\n",
            "Epoch 17/50\n",
            "1563/1563 [==============================] - 9s 6ms/step - loss: 0.1201 - accuracy: 0.9596 - val_loss: 0.8015 - val_accuracy: 0.8273\n",
            "Epoch 18/50\n",
            "1563/1563 [==============================] - 9s 6ms/step - loss: 0.1097 - accuracy: 0.9635 - val_loss: 0.6994 - val_accuracy: 0.8337\n",
            "Epoch 19/50\n",
            "1563/1563 [==============================] - 9s 6ms/step - loss: 0.0997 - accuracy: 0.9658 - val_loss: 0.8922 - val_accuracy: 0.8112\n",
            "Epoch 20/50\n",
            "1563/1563 [==============================] - 9s 6ms/step - loss: 0.1006 - accuracy: 0.9670 - val_loss: 0.7417 - val_accuracy: 0.8381\n",
            "Epoch 21/50\n",
            "1563/1563 [==============================] - 9s 6ms/step - loss: 0.0898 - accuracy: 0.9703 - val_loss: 0.7197 - val_accuracy: 0.8262\n",
            "Epoch 22/50\n",
            "1563/1563 [==============================] - 9s 6ms/step - loss: 0.0928 - accuracy: 0.9694 - val_loss: 1.0628 - val_accuracy: 0.7861\n",
            "Epoch 23/50\n",
            "1563/1563 [==============================] - 9s 6ms/step - loss: 0.0837 - accuracy: 0.9716 - val_loss: 0.7947 - val_accuracy: 0.8300\n",
            "Epoch 24/50\n",
            "1563/1563 [==============================] - 9s 6ms/step - loss: 0.0785 - accuracy: 0.9741 - val_loss: 0.8850 - val_accuracy: 0.8162\n",
            "Epoch 25/50\n",
            "1563/1563 [==============================] - 9s 6ms/step - loss: 0.0771 - accuracy: 0.9743 - val_loss: 0.7838 - val_accuracy: 0.8374\n",
            "Epoch 26/50\n",
            "1563/1563 [==============================] - 9s 6ms/step - loss: 0.0707 - accuracy: 0.9770 - val_loss: 0.7570 - val_accuracy: 0.8350\n",
            "Epoch 27/50\n",
            "1563/1563 [==============================] - 9s 6ms/step - loss: 0.0733 - accuracy: 0.9764 - val_loss: 0.7839 - val_accuracy: 0.8359\n",
            "Epoch 28/50\n",
            "1563/1563 [==============================] - 9s 6ms/step - loss: 0.0656 - accuracy: 0.9788 - val_loss: 0.8337 - val_accuracy: 0.8339\n",
            "Epoch 29/50\n",
            "1563/1563 [==============================] - 9s 6ms/step - loss: 0.0673 - accuracy: 0.9777 - val_loss: 0.7736 - val_accuracy: 0.8375\n",
            "Epoch 30/50\n",
            "1563/1563 [==============================] - 9s 6ms/step - loss: 0.0606 - accuracy: 0.9798 - val_loss: 0.8178 - val_accuracy: 0.8355\n",
            "Epoch 31/50\n",
            "1563/1563 [==============================] - 9s 6ms/step - loss: 0.0612 - accuracy: 0.9799 - val_loss: 0.7716 - val_accuracy: 0.8325\n",
            "Epoch 32/50\n",
            "1563/1563 [==============================] - 9s 6ms/step - loss: 0.0605 - accuracy: 0.9805 - val_loss: 0.9108 - val_accuracy: 0.8338\n",
            "Epoch 33/50\n",
            "1563/1563 [==============================] - 9s 6ms/step - loss: 0.0563 - accuracy: 0.9814 - val_loss: 0.8415 - val_accuracy: 0.8410\n",
            "Epoch 34/50\n",
            "1563/1563 [==============================] - 9s 6ms/step - loss: 0.0556 - accuracy: 0.9822 - val_loss: 0.8707 - val_accuracy: 0.8345\n",
            "Epoch 35/50\n",
            "1563/1563 [==============================] - 9s 6ms/step - loss: 0.0565 - accuracy: 0.9815 - val_loss: 0.9041 - val_accuracy: 0.8367\n",
            "Epoch 36/50\n",
            "1563/1563 [==============================] - 9s 6ms/step - loss: 0.0528 - accuracy: 0.9829 - val_loss: 0.9055 - val_accuracy: 0.8361\n",
            "Epoch 37/50\n",
            "1563/1563 [==============================] - 9s 6ms/step - loss: 0.0508 - accuracy: 0.9836 - val_loss: 0.9163 - val_accuracy: 0.8321\n",
            "Epoch 38/50\n",
            "1563/1563 [==============================] - 9s 6ms/step - loss: 0.0526 - accuracy: 0.9831 - val_loss: 0.8780 - val_accuracy: 0.8373\n",
            "Epoch 39/50\n",
            "1563/1563 [==============================] - 9s 6ms/step - loss: 0.0498 - accuracy: 0.9841 - val_loss: 0.9515 - val_accuracy: 0.8358\n",
            "Epoch 40/50\n",
            "1563/1563 [==============================] - 9s 6ms/step - loss: 0.0446 - accuracy: 0.9856 - val_loss: 0.9043 - val_accuracy: 0.8402\n",
            "Epoch 41/50\n",
            "1563/1563 [==============================] - 9s 6ms/step - loss: 0.0514 - accuracy: 0.9841 - val_loss: 0.9139 - val_accuracy: 0.8326\n",
            "Epoch 42/50\n",
            "1563/1563 [==============================] - 9s 6ms/step - loss: 0.0455 - accuracy: 0.9851 - val_loss: 0.8408 - val_accuracy: 0.8402\n",
            "Epoch 43/50\n",
            "1563/1563 [==============================] - 9s 6ms/step - loss: 0.0480 - accuracy: 0.9850 - val_loss: 0.8132 - val_accuracy: 0.8443\n",
            "Epoch 44/50\n",
            "1563/1563 [==============================] - 9s 6ms/step - loss: 0.0426 - accuracy: 0.9866 - val_loss: 0.8014 - val_accuracy: 0.8408\n",
            "Epoch 45/50\n",
            "1563/1563 [==============================] - 9s 6ms/step - loss: 0.0474 - accuracy: 0.9847 - val_loss: 0.9269 - val_accuracy: 0.8368\n",
            "Epoch 46/50\n",
            "1563/1563 [==============================] - 9s 6ms/step - loss: 0.0424 - accuracy: 0.9861 - val_loss: 0.8653 - val_accuracy: 0.8480\n",
            "Epoch 47/50\n",
            "1563/1563 [==============================] - 9s 6ms/step - loss: 0.0421 - accuracy: 0.9861 - val_loss: 0.8778 - val_accuracy: 0.8406\n",
            "Epoch 48/50\n",
            "1563/1563 [==============================] - 9s 6ms/step - loss: 0.0421 - accuracy: 0.9868 - val_loss: 0.8909 - val_accuracy: 0.8376\n",
            "Epoch 49/50\n",
            "1563/1563 [==============================] - 10s 6ms/step - loss: 0.0409 - accuracy: 0.9870 - val_loss: 0.9695 - val_accuracy: 0.8381\n",
            "Epoch 50/50\n",
            "1563/1563 [==============================] - 9s 6ms/step - loss: 0.0410 - accuracy: 0.9869 - val_loss: 0.8318 - val_accuracy: 0.8450\n"
          ],
          "name": "stdout"
        }
      ]
    },
    {
      "cell_type": "code",
      "metadata": {
        "id": "af61hXUrYjsZ",
        "colab": {
          "base_uri": "https://localhost:8080/"
        },
        "outputId": "f3357f25-70f6-47df-be8b-6101489e1de3"
      },
      "source": [
        "# Fit with data augmentation\n",
        "# Note: if you run this AFTER calling the previous model.fit(), it will CONTINUE training where it left off\n",
        "batch_size = 32\n",
        "data_generator = tf.keras.preprocessing.image.ImageDataGenerator(width_shift_range=0.1, height_shift_range=0.1, horizontal_flip=True)\n",
        "train_generator = data_generator.flow(x_train, y_train, batch_size)\n",
        "steps_per_epoch = x_train.shape[0] // batch_size\n",
        "r = model.fit(train_generator, validation_data=(x_test, y_test), steps_per_epoch=steps_per_epoch, epochs=50)"
      ],
      "execution_count": null,
      "outputs": [
        {
          "output_type": "stream",
          "text": [
            "Epoch 1/50\n",
            "1562/1562 [==============================] - 31s 20ms/step - loss: 1.4494 - accuracy: 0.4941 - val_loss: 1.1059 - val_accuracy: 0.6121\n",
            "Epoch 2/50\n",
            "1562/1562 [==============================] - 30s 19ms/step - loss: 1.0015 - accuracy: 0.6496 - val_loss: 0.9328 - val_accuracy: 0.6829\n",
            "Epoch 3/50\n",
            "1562/1562 [==============================] - 31s 20ms/step - loss: 0.8584 - accuracy: 0.7024 - val_loss: 0.7918 - val_accuracy: 0.7338\n",
            "Epoch 4/50\n",
            "1562/1562 [==============================] - 31s 20ms/step - loss: 0.7590 - accuracy: 0.7410 - val_loss: 0.8131 - val_accuracy: 0.7309\n",
            "Epoch 5/50\n",
            "1562/1562 [==============================] - 31s 20ms/step - loss: 0.6979 - accuracy: 0.7631 - val_loss: 0.7086 - val_accuracy: 0.7649\n",
            "Epoch 6/50\n",
            "1562/1562 [==============================] - 30s 20ms/step - loss: 0.6403 - accuracy: 0.7795 - val_loss: 0.6726 - val_accuracy: 0.7707\n",
            "Epoch 7/50\n",
            "1562/1562 [==============================] - 30s 19ms/step - loss: 0.5956 - accuracy: 0.7971 - val_loss: 0.5463 - val_accuracy: 0.8168\n",
            "Epoch 8/50\n",
            "1562/1562 [==============================] - 30s 19ms/step - loss: 0.5538 - accuracy: 0.8139 - val_loss: 0.6084 - val_accuracy: 0.8040\n",
            "Epoch 9/50\n",
            "1562/1562 [==============================] - 30s 19ms/step - loss: 0.5291 - accuracy: 0.8192 - val_loss: 0.5259 - val_accuracy: 0.8233\n",
            "Epoch 10/50\n",
            "1562/1562 [==============================] - 30s 19ms/step - loss: 0.4954 - accuracy: 0.8313 - val_loss: 0.5366 - val_accuracy: 0.8235\n",
            "Epoch 11/50\n",
            "1562/1562 [==============================] - 31s 20ms/step - loss: 0.4731 - accuracy: 0.8374 - val_loss: 0.5938 - val_accuracy: 0.8005\n",
            "Epoch 12/50\n",
            "1562/1562 [==============================] - 30s 20ms/step - loss: 0.4481 - accuracy: 0.8471 - val_loss: 0.4796 - val_accuracy: 0.8345\n",
            "Epoch 13/50\n",
            "1562/1562 [==============================] - 31s 20ms/step - loss: 0.4270 - accuracy: 0.8544 - val_loss: 0.4822 - val_accuracy: 0.8395\n",
            "Epoch 14/50\n",
            "1562/1562 [==============================] - 31s 20ms/step - loss: 0.4059 - accuracy: 0.8602 - val_loss: 0.5033 - val_accuracy: 0.8325\n",
            "Epoch 15/50\n",
            "1562/1562 [==============================] - 30s 20ms/step - loss: 0.3934 - accuracy: 0.8649 - val_loss: 0.4640 - val_accuracy: 0.8462\n",
            "Epoch 16/50\n",
            "1562/1562 [==============================] - 31s 20ms/step - loss: 0.3792 - accuracy: 0.8685 - val_loss: 0.4829 - val_accuracy: 0.8415\n",
            "Epoch 17/50\n",
            "1562/1562 [==============================] - 31s 20ms/step - loss: 0.3659 - accuracy: 0.8753 - val_loss: 0.4690 - val_accuracy: 0.8458\n",
            "Epoch 18/50\n",
            "1562/1562 [==============================] - 30s 19ms/step - loss: 0.3452 - accuracy: 0.8805 - val_loss: 0.4758 - val_accuracy: 0.8503\n",
            "Epoch 19/50\n",
            "1562/1562 [==============================] - 30s 19ms/step - loss: 0.3398 - accuracy: 0.8835 - val_loss: 0.4792 - val_accuracy: 0.8494\n",
            "Epoch 20/50\n",
            "1562/1562 [==============================] - 30s 19ms/step - loss: 0.3296 - accuracy: 0.8878 - val_loss: 0.4185 - val_accuracy: 0.8647\n",
            "Epoch 21/50\n",
            "1562/1562 [==============================] - 30s 19ms/step - loss: 0.3196 - accuracy: 0.8907 - val_loss: 0.3757 - val_accuracy: 0.8760\n",
            "Epoch 22/50\n",
            "1562/1562 [==============================] - 30s 19ms/step - loss: 0.3144 - accuracy: 0.8918 - val_loss: 0.4813 - val_accuracy: 0.8495\n",
            "Epoch 23/50\n",
            "1562/1562 [==============================] - 31s 20ms/step - loss: 0.3004 - accuracy: 0.8960 - val_loss: 0.4522 - val_accuracy: 0.8584\n",
            "Epoch 24/50\n",
            "1562/1562 [==============================] - 30s 19ms/step - loss: 0.2948 - accuracy: 0.8984 - val_loss: 0.3988 - val_accuracy: 0.8744\n",
            "Epoch 25/50\n",
            "1562/1562 [==============================] - 29s 19ms/step - loss: 0.2898 - accuracy: 0.9000 - val_loss: 0.4216 - val_accuracy: 0.8592\n",
            "Epoch 26/50\n",
            "1562/1562 [==============================] - 30s 19ms/step - loss: 0.2732 - accuracy: 0.9060 - val_loss: 0.3946 - val_accuracy: 0.8701\n",
            "Epoch 27/50\n",
            "1562/1562 [==============================] - 29s 19ms/step - loss: 0.2687 - accuracy: 0.9072 - val_loss: 0.4010 - val_accuracy: 0.8676\n",
            "Epoch 28/50\n",
            "1562/1562 [==============================] - 29s 19ms/step - loss: 0.2650 - accuracy: 0.9070 - val_loss: 0.4850 - val_accuracy: 0.8477\n",
            "Epoch 29/50\n",
            "1562/1562 [==============================] - 29s 19ms/step - loss: 0.2598 - accuracy: 0.9098 - val_loss: 0.4471 - val_accuracy: 0.8563\n",
            "Epoch 30/50\n",
            "1562/1562 [==============================] - 29s 18ms/step - loss: 0.2575 - accuracy: 0.9124 - val_loss: 0.3847 - val_accuracy: 0.8799\n",
            "Epoch 31/50\n",
            "1562/1562 [==============================] - 28s 18ms/step - loss: 0.2479 - accuracy: 0.9151 - val_loss: 0.4360 - val_accuracy: 0.8651\n",
            "Epoch 32/50\n",
            "1562/1562 [==============================] - 30s 19ms/step - loss: 0.2427 - accuracy: 0.9167 - val_loss: 0.3918 - val_accuracy: 0.8752\n",
            "Epoch 33/50\n",
            "1562/1562 [==============================] - 31s 20ms/step - loss: 0.2399 - accuracy: 0.9159 - val_loss: 0.3950 - val_accuracy: 0.8746\n",
            "Epoch 34/50\n",
            "1562/1562 [==============================] - 30s 19ms/step - loss: 0.2321 - accuracy: 0.9203 - val_loss: 0.3974 - val_accuracy: 0.8784\n",
            "Epoch 35/50\n",
            "1562/1562 [==============================] - 29s 19ms/step - loss: 0.2309 - accuracy: 0.9208 - val_loss: 0.4041 - val_accuracy: 0.8794\n",
            "Epoch 36/50\n",
            "1562/1562 [==============================] - 30s 19ms/step - loss: 0.2295 - accuracy: 0.9211 - val_loss: 0.3852 - val_accuracy: 0.8798\n",
            "Epoch 37/50\n",
            "1562/1562 [==============================] - 29s 19ms/step - loss: 0.2213 - accuracy: 0.9241 - val_loss: 0.4662 - val_accuracy: 0.8597\n",
            "Epoch 38/50\n",
            "1562/1562 [==============================] - 29s 19ms/step - loss: 0.2142 - accuracy: 0.9265 - val_loss: 0.4071 - val_accuracy: 0.8806\n",
            "Epoch 39/50\n",
            "1562/1562 [==============================] - 30s 19ms/step - loss: 0.2149 - accuracy: 0.9267 - val_loss: 0.3892 - val_accuracy: 0.8758\n",
            "Epoch 40/50\n",
            "1562/1562 [==============================] - 29s 19ms/step - loss: 0.2104 - accuracy: 0.9288 - val_loss: 0.4458 - val_accuracy: 0.8723\n",
            "Epoch 41/50\n",
            "1562/1562 [==============================] - 29s 18ms/step - loss: 0.2111 - accuracy: 0.9278 - val_loss: 0.4516 - val_accuracy: 0.8682\n",
            "Epoch 42/50\n",
            "1562/1562 [==============================] - 28s 18ms/step - loss: 0.2029 - accuracy: 0.9304 - val_loss: 0.4062 - val_accuracy: 0.8797\n",
            "Epoch 43/50\n",
            "1562/1562 [==============================] - 28s 18ms/step - loss: 0.2044 - accuracy: 0.9308 - val_loss: 0.3975 - val_accuracy: 0.8813\n",
            "Epoch 44/50\n",
            "1562/1562 [==============================] - 29s 19ms/step - loss: 0.2039 - accuracy: 0.9301 - val_loss: 0.4091 - val_accuracy: 0.8792\n",
            "Epoch 45/50\n",
            "1562/1562 [==============================] - 29s 18ms/step - loss: 0.1961 - accuracy: 0.9327 - val_loss: 0.3713 - val_accuracy: 0.8876\n",
            "Epoch 46/50\n",
            "1562/1562 [==============================] - 29s 18ms/step - loss: 0.1930 - accuracy: 0.9335 - val_loss: 0.4529 - val_accuracy: 0.8734\n",
            "Epoch 47/50\n",
            "1562/1562 [==============================] - 29s 18ms/step - loss: 0.1856 - accuracy: 0.9370 - val_loss: 0.4137 - val_accuracy: 0.8799\n",
            "Epoch 48/50\n",
            "1562/1562 [==============================] - 28s 18ms/step - loss: 0.1893 - accuracy: 0.9343 - val_loss: 0.4135 - val_accuracy: 0.8814\n",
            "Epoch 49/50\n",
            "1562/1562 [==============================] - 28s 18ms/step - loss: 0.1839 - accuracy: 0.9371 - val_loss: 0.4014 - val_accuracy: 0.8867\n",
            "Epoch 50/50\n",
            "1562/1562 [==============================] - 29s 18ms/step - loss: 0.1846 - accuracy: 0.9364 - val_loss: 0.3840 - val_accuracy: 0.8917\n"
          ],
          "name": "stdout"
        }
      ]
    },
    {
      "cell_type": "code",
      "metadata": {
        "id": "ML37hw4iOkBm",
        "colab": {
          "base_uri": "https://localhost:8080/",
          "height": 282
        },
        "outputId": "41f271d4-f278-4147-9bde-f9440e515835"
      },
      "source": [
        "# Plot loss per iteration\n",
        "import matplotlib.pyplot as plt\n",
        "plt.plot(r.history['loss'], label='loss')\n",
        "plt.plot(r.history['val_loss'], label='val_loss')\n",
        "plt.legend()"
      ],
      "execution_count": null,
      "outputs": [
        {
          "output_type": "execute_result",
          "data": {
            "text/plain": [
              "<matplotlib.legend.Legend at 0x7f351422d630>"
            ]
          },
          "metadata": {
            "tags": []
          },
          "execution_count": 9
        },
        {
          "output_type": "display_data",
          "data": {
            "image/png": "[encoded data removed]",
            "text/plain": [
              "<Figure size 432x288 with 1 Axes>"
            ]
          },
          "metadata": {
            "tags": [],
            "needs_background": "light"
          }
        }
      ]
    },
    {
      "cell_type": "code",
      "metadata": {
        "id": "pemstSDIOpIb",
        "colab": {
          "base_uri": "https://localhost:8080/",
          "height": 282
        },
        "outputId": "e84a23f0-fd09-4ceb-b809-b3ae37b0bee6"
      },
      "source": [
        "# Plot accuracy per iteration\n",
        "plt.plot(r.history['accuracy'], label='acc')\n",
        "plt.plot(r.history['val_accuracy'], label='val_acc')\n",
        "plt.legend()"
      ],
      "execution_count": null,
      "outputs": [
        {
          "output_type": "execute_result",
          "data": {
            "text/plain": [
              "<matplotlib.legend.Legend at 0x7f35141d1b38>"
            ]
          },
          "metadata": {
            "tags": []
          },
          "execution_count": 10
        },
        {
          "output_type": "display_data",
          "data": {
            "image/png": "[encoded data removed]",
            "text/plain": [
              "<Figure size 432x288 with 1 Axes>"
            ]
          },
          "metadata": {
            "tags": [],
            "needs_background": "light"
          }
        }
      ]
    },
    {
      "cell_type": "code",
      "metadata": {
        "id": "2LJTd4OiO6kL",
        "colab": {
          "base_uri": "https://localhost:8080/",
          "height": 496
        },
        "outputId": "e8cc6a2a-ed56-427c-ebb4-fd94d733eb48"
      },
      "source": [
        "# Plot confusion matrix\n",
        "from sklearn.metrics import confusion_matrix\n",
        "import itertools\n",
        "\n",
        "def plot_confusion_matrix(cm, classes,\n",
        "                          normalize=False,\n",
        "                          title='Confusion matrix',\n",
        "                          cmap=plt.cm.Blues):\n",
        "  \"\"\"\n",
        "  This function prints and plots the confusion matrix.\n",
        "  Normalization can be applied by setting `normalize=True`.\n",
        "  \"\"\"\n",
        "  if normalize:\n",
        "      cm = cm.astype('float') / cm.sum(axis=1)[:, np.newaxis]\n",
        "      print(\"Normalized confusion matrix\")\n",
        "  else:\n",
        "      print('Confusion matrix, without normalization')\n",
        "\n",
        "  print(cm)\n",
        "\n",
        "  plt.imshow(cm, interpolation='nearest', cmap=cmap)\n",
        "  plt.title(title)\n",
        "  plt.colorbar()\n",
        "  tick_marks = np.arange(len(classes))\n",
        "  plt.xticks(tick_marks, classes, rotation=45)\n",
        "  plt.yticks(tick_marks, classes)\n",
        "\n",
        "  fmt = '.2f' if normalize else 'd'\n",
        "  thresh = cm.max() / 2.\n",
        "  for i, j in itertools.product(range(cm.shape[0]), range(cm.shape[1])):\n",
        "      plt.text(j, i, format(cm[i, j], fmt),\n",
        "               horizontalalignment=\"center\",\n",
        "               color=\"white\" if cm[i, j] > thresh else \"black\")\n",
        "\n",
        "  plt.tight_layout()\n",
        "  plt.ylabel('True label')\n",
        "  plt.xlabel('Predicted label')\n",
        "  plt.show()\n",
        "\n",
        "\n",
        "p_test = model.predict(x_test).argmax(axis=1)\n",
        "cm = confusion_matrix(y_test, p_test)\n",
        "plot_confusion_matrix(cm, list(range(10)))\n",
        "\n"
      ],
      "execution_count": null,
      "outputs": [
        {
          "output_type": "stream",
          "text": [
            "Confusion matrix, without normalization\n",
            "[[897   3  21  11  10   6   4  13  30   5]\n",
            " [  4 967   2   2   1   0   0   0   5  19]\n",
            " [ 21   0 858  35  26  28  20   9   2   1]\n",
            " [  3   2  34 781  31 104  23  18   2   2]\n",
            " [  3   1  28  20 902  12  20  12   2   0]\n",
            " [  3   0  15  93  33 835   4  17   0   0]\n",
            " [  4   1  26  34   7   7 914   5   1   1]\n",
            " [  1   0   7   8  32  25   3 918   1   5]\n",
            " [ 27   5   5   7   4   2   1   4 925  20]\n",
            " [ 15  40   4   6   1   3   1   4   6 920]]\n"
          ],
          "name": "stdout"
        },
        {
          "output_type": "display_data",
          "data": {
            "image/png": "[encoded data removed]",
            "text/plain": [
              "<Figure size 432x288 with 2 Axes>"
            ]
          },
          "metadata": {
            "tags": [],
            "needs_background": "light"
          }
        }
      ]
    },
    {
      "cell_type": "code",
      "metadata": {
        "id": "AgQqQHXNXDgw"
      },
      "source": [
        "# label mapping\n",
        "labels = '''airplane\n",
        "automobile\n",
        "bird\n",
        "cat\n",
        "deer\n",
        "dog\n",
        "frog\n",
        "horse\n",
        "ship\n",
        "truck'''.split()"
      ],
      "execution_count": null,
      "outputs": []
    },
    {
      "cell_type": "code",
      "metadata": {
        "id": "jjmW4STFO-Ny",
        "colab": {
          "base_uri": "https://localhost:8080/",
          "height": 281
        },
        "outputId": "1fb00e30-2cc5-4870-ae4a-e3731dfbcd34"
      },
      "source": [
        "# Show some misclassified examples\n",
        "misclassified_idx = np.where(p_test != y_test)[0]\n",
        "i = np.random.choice(misclassified_idx)\n",
        "plt.imshow(x_test[i], cmap='gray')\n",
        "plt.title(\"True label: %s Predicted: %s\" % (labels[y_test[i]], labels[p_test[i]]));"
      ],
      "execution_count": null,
      "outputs": [
        {
          "output_type": "display_data",
          "data": {
            "image/png": "[encoded data removed]",
            "text/plain": [
              "<Figure size 432x288 with 1 Axes>"
            ]
          },
          "metadata": {
            "tags": [],
            "needs_background": "light"
          }
        }
      ]
    }
  ]
}